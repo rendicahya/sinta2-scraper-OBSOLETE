{
  "nbformat": 4,
  "nbformat_minor": 0,
  "metadata": {
    "colab": {
      "name": "sinta-scraper-sample.ipynb",
      "provenance": [],
      "collapsed_sections": []
    },
    "kernelspec": {
      "name": "python3",
      "display_name": "Python 3"
    }
  },
  "cells": [
    {
      "cell_type": "markdown",
      "metadata": {
        "id": "GcVhMSbJ62Zl"
      },
      "source": [
        "# Installation"
      ]
    },
    {
      "cell_type": "code",
      "metadata": {
        "id": "T9aJcJ9u6xBD"
      },
      "source": [
        "!pip install -U sinta-scraper"
      ],
      "execution_count": null,
      "outputs": []
    },
    {
      "cell_type": "markdown",
      "metadata": {
        "id": "FB-xZusr65nb"
      },
      "source": [
        "# Import"
      ]
    },
    {
      "cell_type": "code",
      "metadata": {
        "id": "EgYZxJOO6595"
      },
      "source": [
        "import sinta_scraper as sinta"
      ],
      "execution_count": null,
      "outputs": []
    },
    {
      "cell_type": "markdown",
      "metadata": {
        "id": "EgtXxiXa7ZpM"
      },
      "source": [
        "# `author()`\n",
        "\n"
      ]
    },
    {
      "cell_type": "code",
      "metadata": {
        "id": "pTFQpWTq7aBK"
      },
      "source": [
        "author_id = '5975467'\n",
        "author = sinta.author(author_id)\n",
        "\n",
        "author"
      ],
      "execution_count": null,
      "outputs": []
    },
    {
      "cell_type": "markdown",
      "metadata": {
        "id": "9xl86iDS87Qj"
      },
      "source": [
        "# `authors()`"
      ]
    },
    {
      "cell_type": "code",
      "metadata": {
        "id": "fK8WRr1J8-wP"
      },
      "source": [
        "author_ids = ['5975467', '6005015', '29555']\n",
        "authors = sinta.authors(author_ids)\n",
        "\n",
        "authors"
      ],
      "execution_count": null,
      "outputs": []
    },
    {
      "cell_type": "markdown",
      "metadata": {
        "id": "ahh4Jv6r9OWs"
      },
      "source": [
        "# `dept_authors()`"
      ]
    },
    {
      "cell_type": "code",
      "metadata": {
        "id": "hSony_zp9Nro"
      },
      "source": [
        "dept_id = '55001'\n",
        "affil_id = '417'\n",
        "authors = sinta.dept_authors(dept_id, affil_id)\n",
        "\n",
        "authors"
      ],
      "execution_count": null,
      "outputs": []
    },
    {
      "cell_type": "markdown",
      "metadata": {
        "id": "qVJTiyHq9qKK"
      },
      "source": [
        "# `depts_authors()`"
      ]
    },
    {
      "cell_type": "code",
      "metadata": {
        "id": "R6zOP_S99sxb"
      },
      "source": [
        "dept_ids = ['55001', '20201']\n",
        "affil_id = '417'\n",
        "authors = sinta.depts_authors(dept_ids, affil_id)\n",
        "\n",
        "authors"
      ],
      "execution_count": null,
      "outputs": []
    },
    {
      "cell_type": "markdown",
      "metadata": {
        "id": "MYwvZYTzdLU8"
      },
      "source": [
        "# `affil()`"
      ]
    },
    {
      "cell_type": "code",
      "metadata": {
        "id": "1NcesIKUdPK3"
      },
      "source": [
        "affil_id = '417'\n",
        "affil = sinta.affil(affil_id)\n",
        "\n",
        "affil"
      ],
      "execution_count": null,
      "outputs": []
    },
    {
      "cell_type": "markdown",
      "metadata": {
        "id": "r-KUBjUPexDC"
      },
      "source": [
        "# `affils()`"
      ]
    },
    {
      "cell_type": "code",
      "metadata": {
        "id": "xoD_WI1Ge0F-"
      },
      "source": [
        "affil_ids = ['417', '404']\n",
        "affils = sinta.affils(affil_ids)\n",
        "\n",
        "affils"
      ],
      "execution_count": null,
      "outputs": []
    },
    {
      "cell_type": "markdown",
      "metadata": {
        "id": "aiXe4OxzgUAR"
      },
      "source": [
        "# `affil_authors()`"
      ]
    },
    {
      "cell_type": "code",
      "metadata": {
        "id": "eLqjumg7gXdV"
      },
      "source": [
        "affil_id = '417'\n",
        "authors = sinta.affil_authors(affil_id)\n",
        "\n",
        "authors[:10]"
      ],
      "execution_count": null,
      "outputs": []
    },
    {
      "cell_type": "markdown",
      "metadata": {
        "id": "-sgOHstqkm__"
      },
      "source": [
        "# `author_researches()`"
      ]
    },
    {
      "cell_type": "code",
      "metadata": {
        "id": "-sO4t8dkkpdP"
      },
      "source": [
        "author_id = '6005015'\n",
        "researches = sinta.author_researches(author_id)\n",
        "\n",
        "researches[:2]\n"
      ],
      "execution_count": null,
      "outputs": []
    },
    {
      "cell_type": "markdown",
      "metadata": {
        "id": "5TZmoFGDmFp_"
      },
      "source": [
        "# `author_scholar_docs()`"
      ]
    },
    {
      "cell_type": "code",
      "metadata": {
        "id": "yBx1HYH8mI_N"
      },
      "source": [
        "author_id = '6005015'\n",
        "scholar = sinta.author_scholar_docs(author_id)\n",
        "\n",
        "scholar[:2]"
      ],
      "execution_count": null,
      "outputs": []
    },
    {
      "cell_type": "markdown",
      "metadata": {
        "id": "HrsWW9B0m54V"
      },
      "source": [
        "# `author_scopus_docs()`"
      ]
    },
    {
      "cell_type": "code",
      "metadata": {
        "id": "SfHA7cZVm8I2"
      },
      "source": [
        "author_id = '6005015'\n",
        "scopus = sinta.author_scopus_docs(author_id)\n",
        "\n",
        "scopus[:2]"
      ],
      "execution_count": null,
      "outputs": []
    },
    {
      "cell_type": "markdown",
      "metadata": {
        "id": "VZg9LuRLnhIM"
      },
      "source": [
        "# `author_wos_docs()`"
      ]
    },
    {
      "cell_type": "code",
      "metadata": {
        "id": "gPm1w7N4nf5Q"
      },
      "source": [
        "author_id = '6005015'\n",
        "wos = sinta.author_wos_docs(author_id)\n",
        "\n",
        "wos[:2]"
      ],
      "execution_count": null,
      "outputs": []
    },
    {
      "cell_type": "markdown",
      "metadata": {
        "id": "I6vTj65Poj59"
      },
      "source": [
        "# `author_comm_services()`"
      ]
    },
    {
      "cell_type": "code",
      "metadata": {
        "id": "YJ-KTIFnokf5"
      },
      "source": [
        "author_id = '5996278'\n",
        "comm_svc = sinta.author_comm_services(author_id)\n",
        "\n",
        "comm_svc"
      ],
      "execution_count": null,
      "outputs": []
    },
    {
      "cell_type": "markdown",
      "metadata": {
        "id": "lt7bEGWkpQ0u"
      },
      "source": [
        "# `author_ipr()`"
      ]
    },
    {
      "cell_type": "code",
      "metadata": {
        "id": "C5qvYrFBpSSe"
      },
      "source": [
        "author_id = '5996278'\n",
        "ipr = sinta.author_ipr(author_id)\n",
        "\n",
        "ipr"
      ],
      "execution_count": null,
      "outputs": []
    }
  ]
}
