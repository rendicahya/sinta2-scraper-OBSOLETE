{
  "nbformat": 4,
  "nbformat_minor": 0,
  "metadata": {
    "colab": {
      "name": "sinta-scraper-sample.ipynb",
      "provenance": [],
      "collapsed_sections": [],
      "authorship_tag": "ABX9TyPILVI4PmmKgy28DDPb05Fj",
      "include_colab_link": true
    },
    "kernelspec": {
      "name": "python3",
      "display_name": "Python 3"
    }
  },
  "cells": [
    {
      "cell_type": "markdown",
      "metadata": {
        "id": "view-in-github",
        "colab_type": "text"
      },
      "source": [
        "<a href=\"https://colab.research.google.com/github/rendicahya/sinta-scraper/blob/master/sinta_scraper_sample.ipynb\" target=\"_parent\"><img src=\"https://colab.research.google.com/assets/colab-badge.svg\" alt=\"Open In Colab\"/></a>"
      ]
    },
    {
      "cell_type": "markdown",
      "metadata": {
        "id": "GcVhMSbJ62Zl",
        "colab_type": "text"
      },
      "source": [
        "# Installation"
      ]
    },
    {
      "cell_type": "code",
      "metadata": {
        "id": "T9aJcJ9u6xBD",
        "colab_type": "code",
        "colab": {}
      },
      "source": [
        "!pip install -U sinta-scraper"
      ],
      "execution_count": null,
      "outputs": []
    },
    {
      "cell_type": "markdown",
      "metadata": {
        "id": "FB-xZusr65nb",
        "colab_type": "text"
      },
      "source": [
        "# Import"
      ]
    },
    {
      "cell_type": "code",
      "metadata": {
        "id": "EgYZxJOO6595",
        "colab_type": "code",
        "colab": {}
      },
      "source": [
        "import sinta_scraper as sinta"
      ],
      "execution_count": null,
      "outputs": []
    },
    {
      "cell_type": "markdown",
      "metadata": {
        "id": "EgtXxiXa7ZpM",
        "colab_type": "text"
      },
      "source": [
        "# `author()`\n",
        "\n"
      ]
    },
    {
      "cell_type": "code",
      "metadata": {
        "id": "pTFQpWTq7aBK",
        "colab_type": "code",
        "colab": {}
      },
      "source": [
        "author_id = '5975467'\n",
        "author = sinta.author(author_id)\n",
        "\n",
        "print(author)"
      ],
      "execution_count": null,
      "outputs": []
    },
    {
      "cell_type": "markdown",
      "metadata": {
        "id": "9xl86iDS87Qj",
        "colab_type": "text"
      },
      "source": [
        "# `authors()`"
      ]
    },
    {
      "cell_type": "code",
      "metadata": {
        "id": "fK8WRr1J8-wP",
        "colab_type": "code",
        "colab": {}
      },
      "source": [
        "author_ids = ['5975467', '6005015', '29555']\n",
        "authors = sinta.authors(author_ids)\n",
        "\n",
        "print(authors[1]['name'])"
      ],
      "execution_count": null,
      "outputs": []
    },
    {
      "cell_type": "markdown",
      "metadata": {
        "id": "ahh4Jv6r9OWs",
        "colab_type": "text"
      },
      "source": [
        "# `dept_authors()`"
      ]
    },
    {
      "cell_type": "code",
      "metadata": {
        "id": "hSony_zp9Nro",
        "colab_type": "code",
        "colab": {}
      },
      "source": [
        "dept_id = '55001'\n",
        "affil_id = '417'\n",
        "authors = sinta.dept_authors(dept_id, affil_id)\n",
        "\n",
        "print(authors[:3])"
      ],
      "execution_count": null,
      "outputs": []
    },
    {
      "cell_type": "markdown",
      "metadata": {
        "id": "qVJTiyHq9qKK",
        "colab_type": "text"
      },
      "source": [
        "# `depts_authors()`"
      ]
    },
    {
      "cell_type": "code",
      "metadata": {
        "id": "R6zOP_S99sxb",
        "colab_type": "code",
        "colab": {}
      },
      "source": [
        "dept_ids = ['55001', '20201', '24201']\n",
        "affil_id = '417'\n",
        "authors = sinta.depts_authors(dept_ids, affil_id)\n",
        "\n",
        "print(authors[-3:])"
      ],
      "execution_count": null,
      "outputs": []
    },
    {
      "cell_type": "markdown",
      "metadata": {
        "id": "MYwvZYTzdLU8",
        "colab_type": "text"
      },
      "source": [
        "# `affil()`"
      ]
    },
    {
      "cell_type": "code",
      "metadata": {
        "id": "1NcesIKUdPK3",
        "colab_type": "code",
        "colab": {}
      },
      "source": [
        "affil_id = '417'\n",
        "affil = sinta.affil(affil_id)\n",
        "\n",
        "print(affil)"
      ],
      "execution_count": null,
      "outputs": []
    },
    {
      "cell_type": "markdown",
      "metadata": {
        "id": "r-KUBjUPexDC",
        "colab_type": "text"
      },
      "source": [
        "# `affils()`"
      ]
    },
    {
      "cell_type": "code",
      "metadata": {
        "id": "xoD_WI1Ge0F-",
        "colab_type": "code",
        "colab": {}
      },
      "source": [
        "affil_ids = ['417', '404']\n",
        "affils = sinta.affils(affil_ids)\n",
        "\n",
        "print(affils)"
      ],
      "execution_count": null,
      "outputs": []
    },
    {
      "cell_type": "markdown",
      "metadata": {
        "id": "aiXe4OxzgUAR",
        "colab_type": "text"
      },
      "source": [
        "# `affil_authors()`"
      ]
    },
    {
      "cell_type": "code",
      "metadata": {
        "id": "eLqjumg7gXdV",
        "colab_type": "code",
        "colab": {}
      },
      "source": [
        "affil_id = '417'\n",
        "authors = sinta.affil_authors(affil_id)\n",
        "\n",
        "print(authors[:2])"
      ],
      "execution_count": null,
      "outputs": []
    },
    {
      "cell_type": "markdown",
      "metadata": {
        "id": "-sgOHstqkm__",
        "colab_type": "text"
      },
      "source": [
        "# author_researches()"
      ]
    },
    {
      "cell_type": "code",
      "metadata": {
        "id": "-sO4t8dkkpdP",
        "colab_type": "code",
        "colab": {}
      },
      "source": [
        "author_id = '6005015'\n",
        "researches = sinta.author_researches(author_id)\n",
        "\n",
        "print(researches[:2])\n"
      ],
      "execution_count": null,
      "outputs": []
    },
    {
      "cell_type": "markdown",
      "metadata": {
        "id": "5TZmoFGDmFp_",
        "colab_type": "text"
      },
      "source": [
        "# `author_scholar_docs()`"
      ]
    },
    {
      "cell_type": "code",
      "metadata": {
        "id": "yBx1HYH8mI_N",
        "colab_type": "code",
        "colab": {}
      },
      "source": [
        "author_id = '6005015'\n",
        "scholar = sinta.author_scholar_docs(author_id)\n",
        "\n",
        "print(scholar[:2])"
      ],
      "execution_count": null,
      "outputs": []
    },
    {
      "cell_type": "markdown",
      "metadata": {
        "id": "HrsWW9B0m54V",
        "colab_type": "text"
      },
      "source": [
        "# `author_scopus_docs()`"
      ]
    },
    {
      "cell_type": "code",
      "metadata": {
        "id": "SfHA7cZVm8I2",
        "colab_type": "code",
        "colab": {}
      },
      "source": [
        "author_id = '6005015'\n",
        "scopus = sinta.author_scopus_docs(author_id)\n",
        "\n",
        "print(scopus[:2])"
      ],
      "execution_count": null,
      "outputs": []
    },
    {
      "cell_type": "markdown",
      "metadata": {
        "id": "VZg9LuRLnhIM",
        "colab_type": "text"
      },
      "source": [
        "# `author_wos_docs()`"
      ]
    },
    {
      "cell_type": "code",
      "metadata": {
        "id": "gPm1w7N4nf5Q",
        "colab_type": "code",
        "colab": {}
      },
      "source": [
        "author_id = '6005015'\n",
        "wos = sinta.author_wos_docs(author_id)\n",
        "\n",
        "print(wos[:2])"
      ],
      "execution_count": null,
      "outputs": []
    },
    {
      "cell_type": "markdown",
      "metadata": {
        "id": "I6vTj65Poj59",
        "colab_type": "text"
      },
      "source": [
        "# `author_comm_services()`"
      ]
    },
    {
      "cell_type": "code",
      "metadata": {
        "id": "YJ-KTIFnokf5",
        "colab_type": "code",
        "colab": {}
      },
      "source": [
        "author_id = '5996278'\n",
        "comm = sinta.author_comm_services(author_id)\n",
        "\n",
        "print(comm)"
      ],
      "execution_count": null,
      "outputs": []
    },
    {
      "cell_type": "markdown",
      "metadata": {
        "id": "lt7bEGWkpQ0u",
        "colab_type": "text"
      },
      "source": [
        "# `author_ipr()`"
      ]
    },
    {
      "cell_type": "code",
      "metadata": {
        "id": "C5qvYrFBpSSe",
        "colab_type": "code",
        "colab": {
          "base_uri": "https://localhost:8080/",
          "height": 54
        },
        "outputId": "9265cb31-c761-461d-cb45-3a298e3b9956"
      },
      "source": [
        "author_id = '5996278'\n",
        "ipr = sinta.author_ipr(author_id)\n",
        "\n",
        "print(ipr)"
      ],
      "execution_count": 20,
      "outputs": [
        {
          "output_type": "stream",
          "text": [
            "[{'id': 'EC00202016549', 'title': 'Panduan Pembelajaran Daring Saat Kondisi Darurat COVID-19', 'category': 'paten', 'year': '2020', 'holder': 'Universitas Brawijaya'}]\n"
          ],
          "name": "stdout"
        }
      ]
    }
  ]
}